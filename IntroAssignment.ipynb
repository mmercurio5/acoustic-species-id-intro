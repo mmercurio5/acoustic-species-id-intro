{
 "cells": [
  {
   "cell_type": "code",
   "execution_count": 1,
   "metadata": {},
   "outputs": [],
   "source": [
    "import pandas as pd\n",
    "import numpy as np"
   ]
  },
  {
   "cell_type": "code",
   "execution_count": 2,
   "metadata": {},
   "outputs": [],
   "source": [
    "def dateStringtoint(str):\n",
    "    return int(str[11:13])"
   ]
  },
  {
   "cell_type": "code",
   "execution_count": 3,
   "metadata": {},
   "outputs": [],
   "source": [
    "def stratSample(path):\n",
    "    returnBool = False\n",
    "    \n",
    "    audio = pd.read_csv(path)\n",
    "    audio = audio[round(audio.Duration, 0) == 60.0]\n",
    "    \n",
    "    good_moths = audio.groupby(['AudioMothCode']).count().AudioMothID >= 2000\n",
    "    to_keep = audio.groupby(['AudioMothCode']).count()[good_moths].index\n",
    "    \n",
    "    bad_moths = audio.groupby(['AudioMothCode']).count().AudioMothID < 2000\n",
    "    to_drop = audio.groupby(['AudioMothCode']).count()[bad_moths].index\n",
    "\n",
    "    for i in to_drop:\n",
    "        audio = audio[audio.AudioMothCode != i]\n",
    "    \n",
    "    audio['HourInt'] = audio.StartDateTime.apply(dateStringtoint)\n",
    "    \n",
    "    gb = audio.groupby(['AudioMothCode', 'HourInt'])\n",
    "    groups = [gb.get_group(x) for x in gb.groups]\n",
    "    \n",
    "    sampled_df = pd.DataFrame(columns=audio.columns)\n",
    "    \n",
    "    for group in groups:\n",
    "        sampled_df = sampled_df.append(group.sample())\n",
    "    \n",
    "    sampled_df = sampled_df.drop(columns=['HourInt'])\n",
    "    \n",
    "    #if data frame is expected size return it and return true, else return empty df and false\n",
    "    if len(sampled_df) == len(to_keep) * 24:\n",
    "        returnBool = True\n",
    "        return sampled_df.to_csv(), returnBool\n",
    "\n",
    "    else:\n",
    "        return pd.DataFrame(columns=audio.columns).to_csv(), returnBool    "
   ]
  },
  {
   "cell_type": "code",
   "execution_count": null,
   "metadata": {},
   "outputs": [],
   "source": []
  }
 ],
 "metadata": {
  "kernelspec": {
   "display_name": "Python 3",
   "language": "python",
   "name": "python3"
  },
  "language_info": {
   "codemirror_mode": {
    "name": "ipython",
    "version": 3
   },
   "file_extension": ".py",
   "mimetype": "text/x-python",
   "name": "python",
   "nbconvert_exporter": "python",
   "pygments_lexer": "ipython3",
   "version": "3.7.2"
  }
 },
 "nbformat": 4,
 "nbformat_minor": 4
}
